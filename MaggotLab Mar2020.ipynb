{
 "cells": [
  {
   "cell_type": "code",
   "execution_count": 1,
   "metadata": {},
   "outputs": [
    {
     "name": "stdout",
     "output_type": "stream",
     "text": [
      "Populating the interactive namespace from numpy and matplotlib\n"
     ]
    }
   ],
   "source": [
    "%pylab inline"
   ]
  },
  {
   "cell_type": "code",
   "execution_count": 4,
   "metadata": {},
   "outputs": [],
   "source": [
    "import os "
   ]
  },
  {
   "cell_type": "code",
   "execution_count": 5,
   "metadata": {},
   "outputs": [
    {
     "name": "stdout",
     "output_type": "stream",
     "text": [
      "96 Well plate templatePCR.xlsx\r\n",
      "\u001b[30m\u001b[43mAquaticPig\u001b[m\u001b[m/\r\n",
      "AquaticPig.ipynb\r\n",
      "AustriaBodyFarm Jan2020.ipynb\r\n",
      "\u001b[34mAustriaBodyFarmAMS\u001b[m\u001b[m/\r\n",
      "BNF ITS OCT 3 JPR.tiff\r\n",
      "BenbowSubmission21GelOct2018.tiff\r\n",
      "\u001b[34mCourtneyLabPig\u001b[m\u001b[m/\r\n",
      "CourtneyMaggotExp.ipynb\r\n",
      "\u001b[34mFROST\u001b[m\u001b[m/\r\n",
      "FROST Jan2020.ipynb\r\n",
      "\u001b[31mGel10.16.18.tif\u001b[m\u001b[m*\r\n",
      "Gel6.24.19JR.pptx\r\n",
      "Gel6.26.19JR.tiff\r\n",
      "Gel7.12.19JR.tiff\r\n",
      "GelBenbowSub21Oct2018.pptx\r\n",
      "GelImagesFeb16SSubmission_Benbow47_48.pptx\r\n",
      "GelPhotosAndConditionsJR.pptx\r\n",
      "\u001b[34mGermanySoil2020\u001b[m\u001b[m/\r\n",
      "\u001b[34mHippoMU\u001b[m\u001b[m/\r\n",
      "HippoMU.ipynb\r\n",
      "\u001b[34mItalyInverts\u001b[m\u001b[m/\r\n",
      "ItalyInverts2018.ipynb\r\n",
      "Kansas Soil Qiime2.ipynb\r\n",
      "Kansas SoilDec2019.ipynb\r\n",
      "\u001b[34mKansasSoil\u001b[m\u001b[m/\r\n",
      "KansasSoil9.27.19JR.tiff\r\n",
      "LeafAndAMSGelPhoto.jpg\r\n",
      "\u001b[34mLeafOviposition\u001b[m\u001b[m/\r\n",
      "LeafOviposition Jan2020.ipynb\r\n",
      "MaggotLab Jan2020.ipynb\r\n",
      "\u001b[34mMealworm2018\u001b[m\u001b[m/\r\n",
      "Mealworm2018.ipynb\r\n",
      "Mosquito oviposition antibiotic trial.docx\r\n",
      "Purdue Pig.ipynb\r\n",
      "\u001b[34mPurdueMaggots\u001b[m\u001b[m/\r\n",
      "\u001b[34mStarling\u001b[m\u001b[m/\r\n",
      "Starling.ipynb\r\n",
      "Starling2018Gel.jpg\r\n",
      "StarlingGel16SOct3JPR.tiff\r\n",
      "ThermalCyclerAndFreezerPricing.xlsx\r\n",
      "silva-132-99-515-806-nb-classifier.qza\r\n"
     ]
    }
   ],
   "source": [
    "ls"
   ]
  },
  {
   "cell_type": "code",
   "execution_count": 6,
   "metadata": {},
   "outputs": [
    {
     "name": "stdout",
     "output_type": "stream",
     "text": [
      "/Users/benbowlab/Documents/Receveur/CourtneyLabPig\n"
     ]
    }
   ],
   "source": [
    "cd CourtneyLabPig/"
   ]
  },
  {
   "cell_type": "code",
   "execution_count": 7,
   "metadata": {},
   "outputs": [
    {
     "name": "stdout",
     "output_type": "stream",
     "text": [
      "\u001b[32mImported Raw as CasavaOneEightSingleLanePerSampleDirFmt to demux-paired-end.qza\u001b[0m\n",
      "\u001b[32mSaved Visualization to: demux.qzv\u001b[0m\n"
     ]
    }
   ],
   "source": [
    "#Import paired ends reads\n",
    "!qiime tools import \\\n",
    "  --type 'SampleData[PairedEndSequencesWithQuality]' \\\n",
    "  --input-path Raw \\\n",
    "  --input-format CasavaOneEightSingleLanePerSampleDirFmt \\\n",
    "  --output-path demux-paired-end.qza\n",
    "!qiime demux summarize \\\n",
    "  --i-data demux-paired-end.qza \\\n",
    "  --o-visualization demux.qzv\n"
   ]
  },
  {
   "cell_type": "code",
   "execution_count": 8,
   "metadata": {},
   "outputs": [
    {
     "name": "stdout",
     "output_type": "stream",
     "text": [
      "Press the 'q' key, Control-C, or Control-D to quit. This view may no longer be accessible or work correctly after quitting.\n",
      "Press the 'q' key, Control-C, or Control-D to quit. This view may no longer be accessible or work correctly after quitting."
     ]
    }
   ],
   "source": [
    "!qiime tools view demux.qzv"
   ]
  },
  {
   "cell_type": "code",
   "execution_count": 9,
   "metadata": {},
   "outputs": [
    {
     "name": "stdout",
     "output_type": "stream",
     "text": [
      "Start\n",
      "\u001b[32mSaved FeatureTable[Frequency] to: table.qza\u001b[0m\n",
      "\u001b[32mSaved FeatureData[Sequence] to: rep-seqs.qza\u001b[0m\n",
      "\u001b[32mSaved SampleData[DADA2Stats] to: denoising-stats.qza\u001b[0m\n",
      "End\n"
     ]
    }
   ],
   "source": [
    "print(\"Start\")\n",
    "!qiime dada2 denoise-paired \\\n",
    "  --i-demultiplexed-seqs demux-paired-end.qza \\\n",
    "  --o-representative-sequences rep-seqs.qza \\\n",
    "  --o-table table.qza \\\n",
    "  --p-trunc-len-f 250\\\n",
    "  --p-trunc-len-r 200\\\n",
    "  --o-denoising-stats denoising-stats\n",
    "print(\"End\")"
   ]
  },
  {
   "cell_type": "code",
   "execution_count": 12,
   "metadata": {},
   "outputs": [
    {
     "name": "stdout",
     "output_type": "stream",
     "text": [
      "\u001b[32mSaved FeatureTable[Frequency] to: table.qza\u001b[0m\n",
      "\u001b[32mSaved Visualization to: table.qzv\u001b[0m\n",
      "\u001b[32mSaved Visualization to: rep-seqs.qzv\u001b[0m\n",
      "\u001b[32mSaved FeatureData[AlignedSequence] to: aligned-rep-seqs.qza\u001b[0m\n",
      "\u001b[32mSaved FeatureData[AlignedSequence] to: masked-aligned-rep-seqs.qza\u001b[0m\n",
      "\u001b[32mSaved Phylogeny[Unrooted] to: unrooted-tree.qza\u001b[0m\n",
      "\u001b[32mSaved Phylogeny[Rooted] to: rooted-tree.qza\u001b[0m\n",
      "\u001b[32mSaved Visualization to: alpha-rarefaction.qzv\u001b[0m\n",
      "Done\n"
     ]
    }
   ],
   "source": [
    "!qiime feature-table filter-features \\\n",
    "  --i-table table.qza \\\n",
    "  --p-min-frequency 2 \\\n",
    "  --o-filtered-table table.qza\n",
    "!qiime feature-table summarize \\\n",
    "  --i-table table.qza \\\n",
    "  --o-visualization table.qzv \\\n",
    "  --m-sample-metadata-file MaggotExpMetadata.txt\n",
    "!qiime feature-table tabulate-seqs \\\n",
    "  --i-data rep-seqs.qza \\\n",
    "  --o-visualization rep-seqs.qzv\n",
    "!qiime alignment mafft \\\n",
    "  --i-sequences rep-seqs.qza \\\n",
    "  --o-alignment aligned-rep-seqs.qza\n",
    "!qiime alignment mask \\\n",
    "  --i-alignment aligned-rep-seqs.qza \\\n",
    "  --o-masked-alignment masked-aligned-rep-seqs.qza\n",
    "!qiime phylogeny fasttree \\\n",
    "  --i-alignment masked-aligned-rep-seqs.qza \\\n",
    "  --o-tree unrooted-tree.qza\n",
    "!qiime phylogeny midpoint-root \\\n",
    "  --i-tree unrooted-tree.qza \\\n",
    "  --o-rooted-tree rooted-tree.qza\n",
    "!qiime diversity alpha-rarefaction \\\n",
    "  --i-table table.qza \\\n",
    "  --i-phylogeny rooted-tree.qza \\\n",
    "  --p-max-depth 15000 \\\n",
    "  --m-metadata-file MaggotExpMetadata.txt \\\n",
    "  --o-visualization alpha-rarefaction.qzv\n",
    "print(\"Done\")"
   ]
  },
  {
   "cell_type": "code",
   "execution_count": 13,
   "metadata": {},
   "outputs": [
    {
     "name": "stdout",
     "output_type": "stream",
     "text": [
      "Press the 'q' key, Control-C, or Control-D to quit. This view may no longer be accessible or work correctly after quitting.\n",
      "Press the 'q' key, Control-C, or Control-D to quit. This view may no longer be accessible or work correctly after quitting."
     ]
    }
   ],
   "source": [
    "!qiime tools view alpha-rarefaction.qzv"
   ]
  },
  {
   "cell_type": "code",
   "execution_count": 11,
   "metadata": {},
   "outputs": [],
   "source": [
    "#Classifier already built\n",
    "#!qiime tools import \\\n",
    "#  --type 'FeatureData[Sequence]' \\\n",
    "#  --input-path 99_otus.fasta \\\n",
    "#  --output-path 99_otus.qza\n",
    "\n",
    "#!qiime tools import \\\n",
    "#  --type 'FeatureData[Taxonomy]' \\\n",
    "#  --source-format HeaderlessTSVTaxonomyFormat \\\n",
    "#  --input-path 99_otu_taxonomy.txt \\\n",
    "#  --output-path ref-taxonomy.qza"
   ]
  },
  {
   "cell_type": "code",
   "execution_count": 20,
   "metadata": {},
   "outputs": [
    {
     "name": "stdout",
     "output_type": "stream",
     "text": [
      "\u001b[32mSaved FeatureData[Sequence] to: ref-seqs.qza\u001b[0m\r\n"
     ]
    }
   ],
   "source": [
    "#Classifier already built\n",
    "#!qiime feature-classifier extract-reads \\\n",
    "#  --i-sequences 99_otus.qza \\\n",
    "#  --p-f-primer GTGCCAGCMGCCGCGGTAA \\\n",
    "#  --p-r-primer GGACTACHVGGGTWTCTAAT \\\n",
    "#  --o-reads ref-seqs.qza"
   ]
  },
  {
   "cell_type": "code",
   "execution_count": 14,
   "metadata": {},
   "outputs": [
    {
     "name": "stdout",
     "output_type": "stream",
     "text": [
      "\u001b[32mSaved TaxonomicClassifier to: classifier.qza\u001b[0m\r\n"
     ]
    }
   ],
   "source": [
    "#Classifier already built\n",
    "#!qiime feature-classifier fit-classifier-naive-bayes \\\n",
    " # --i-reference-reads ref-seqs.qza \\\n",
    " # --i-reference-taxonomy ref-taxonomy.qza \\\n",
    " # --o-classifier classifier.qza"
   ]
  },
  {
   "cell_type": "code",
   "execution_count": 14,
   "metadata": {},
   "outputs": [
    {
     "name": "stdout",
     "output_type": "stream",
     "text": [
      "\u001b[32mSaved FeatureData[Taxonomy] to: taxonomy.qza\u001b[0m\n",
      "\u001b[32mSaved Visualization to: taxonomy.qzv\u001b[0m\n"
     ]
    }
   ],
   "source": [
    "!qiime feature-classifier classify-sklearn \\\n",
    "  --i-classifier silva-132-99-515-806-nb-classifier.qza \\\n",
    "  --i-reads rep-seqs.qza \\\n",
    "  --o-classification taxonomy.qza\n",
    "\n",
    "!qiime metadata tabulate \\\n",
    "  --m-input-file taxonomy.qza \\\n",
    "  --o-visualization taxonomy.qzv"
   ]
  },
  {
   "cell_type": "code",
   "execution_count": 15,
   "metadata": {},
   "outputs": [
    {
     "name": "stdout",
     "output_type": "stream",
     "text": [
      "\u001b[32mExported taxonomy.qza as TSVTaxonomyDirectoryFormat to directory taxonomy-with-spaces/\u001b[0m\n",
      "\u001b[32mSaved Visualization to: taxonomy-as-metadata.qzv\u001b[0m\n",
      "\u001b[32mExported taxonomy-as-metadata.qzv as Visualization to directory taxonomy-as-metadata\u001b[0m\n",
      "\u001b[32mImported taxonomy-as-metadata/metadata.tsv as TSVTaxonomyDirectoryFormat to taxonomy-without-spaces.qza\u001b[0m\n"
     ]
    }
   ],
   "source": [
    "#To fix bug with taxonomy file having spaces\n",
    "!qiime tools export \\\n",
    "  --input-path taxonomy.qza \\\n",
    "  --output-path taxonomy-with-spaces/\n",
    "!qiime metadata tabulate \\\n",
    "  --m-input-file taxonomy-with-spaces/taxonomy.tsv  \\\n",
    "  --o-visualization taxonomy-as-metadata.qzv\n",
    "!qiime tools export \\\n",
    "  --input-path taxonomy-as-metadata.qzv \\\n",
    "  --output-path taxonomy-as-metadata\n",
    "!qiime tools import \\\n",
    "  --type 'FeatureData[Taxonomy]' \\\n",
    "  --input-path taxonomy-as-metadata/metadata.tsv \\\n",
    "  --output-path taxonomy-without-spaces.qza"
   ]
  },
  {
   "cell_type": "code",
   "execution_count": 16,
   "metadata": {},
   "outputs": [
    {
     "name": "stdout",
     "output_type": "stream",
     "text": [
      "\u001b[32mSaved FeatureTable[Frequency] to: Filteredtable.qza\u001b[0m\r\n"
     ]
    }
   ],
   "source": [
    "!qiime taxa filter-table \\\n",
    "  --i-table table.qza \\\n",
    "  --i-taxonomy taxonomy.qza \\\n",
    "  --p-exclude mitochondria,chloroplast \\\n",
    "  --o-filtered-table Filteredtable.qza\n"
   ]
  },
  {
   "cell_type": "code",
   "execution_count": 17,
   "metadata": {},
   "outputs": [
    {
     "name": "stdout",
     "output_type": "stream",
     "text": [
      "\u001b[32mSaved Visualization to: taxa-bar-plots.qzv\u001b[0m\r\n"
     ]
    }
   ],
   "source": [
    "\n",
    "!qiime taxa barplot \\\n",
    "  --i-table Filteredtable.qza \\\n",
    "  --i-taxonomy taxonomy.qza \\\n",
    "  --m-metadata-file MaggotExpMetadata.txt \\\n",
    "  --o-visualization taxa-bar-plots.qzv"
   ]
  },
  {
   "cell_type": "code",
   "execution_count": 24,
   "metadata": {},
   "outputs": [
    {
     "name": "stdout",
     "output_type": "stream",
     "text": [
      "Press the 'q' key, Control-C, or Control-D to quit. This view may no longer be accessible or work correctly after quitting.\n",
      "Press the 'q' key, Control-C, or Control-D to quit. This view may no longer be accessible or work correctly after quitting."
     ]
    }
   ],
   "source": [
    "!qiime tools view taxa-bar-plots.qzv"
   ]
  },
  {
   "cell_type": "code",
   "execution_count": 18,
   "metadata": {},
   "outputs": [
    {
     "name": "stdout",
     "output_type": "stream",
     "text": [
      "\u001b[32mSaved FeatureTable[Frequency] to: core-metrics-results/rarefied_table.qza\u001b[0m\n",
      "\u001b[32mSaved SampleData[AlphaDiversity] % Properties('phylogenetic') to: core-metrics-results/faith_pd_vector.qza\u001b[0m\n",
      "\u001b[32mSaved SampleData[AlphaDiversity] to: core-metrics-results/observed_otus_vector.qza\u001b[0m\n",
      "\u001b[32mSaved SampleData[AlphaDiversity] to: core-metrics-results/shannon_vector.qza\u001b[0m\n",
      "\u001b[32mSaved SampleData[AlphaDiversity] to: core-metrics-results/evenness_vector.qza\u001b[0m\n",
      "\u001b[32mSaved DistanceMatrix % Properties('phylogenetic') to: core-metrics-results/unweighted_unifrac_distance_matrix.qza\u001b[0m\n",
      "\u001b[32mSaved DistanceMatrix % Properties('phylogenetic') to: core-metrics-results/weighted_unifrac_distance_matrix.qza\u001b[0m\n",
      "\u001b[32mSaved DistanceMatrix to: core-metrics-results/jaccard_distance_matrix.qza\u001b[0m\n",
      "\u001b[32mSaved DistanceMatrix to: core-metrics-results/bray_curtis_distance_matrix.qza\u001b[0m\n",
      "\u001b[32mSaved PCoAResults to: core-metrics-results/unweighted_unifrac_pcoa_results.qza\u001b[0m\n",
      "\u001b[32mSaved PCoAResults to: core-metrics-results/weighted_unifrac_pcoa_results.qza\u001b[0m\n",
      "\u001b[32mSaved PCoAResults to: core-metrics-results/jaccard_pcoa_results.qza\u001b[0m\n",
      "\u001b[32mSaved PCoAResults to: core-metrics-results/bray_curtis_pcoa_results.qza\u001b[0m\n",
      "\u001b[32mSaved Visualization to: core-metrics-results/unweighted_unifrac_emperor.qzv\u001b[0m\n",
      "\u001b[32mSaved Visualization to: core-metrics-results/weighted_unifrac_emperor.qzv\u001b[0m\n",
      "\u001b[32mSaved Visualization to: core-metrics-results/jaccard_emperor.qzv\u001b[0m\n",
      "\u001b[32mSaved Visualization to: core-metrics-results/bray_curtis_emperor.qzv\u001b[0m\n",
      "\u001b[32mSaved Visualization to: core-metrics-results/shannon-group-significance.qzv\u001b[0m\n",
      "\u001b[32mSaved Visualization to: core-metrics-results/evenness-group-significance.qzv\u001b[0m\n",
      "\u001b[32mSaved Visualization to: core-metrics-results/faith-pd-group-significance.qzv\u001b[0m\n",
      "Usage: \u001b[34mqiime diversity beta-group-significance\u001b[0m [OPTIONS]\n",
      "\n",
      "  Determine whether groups of samples are significantly different from one\n",
      "  another using a permutation-based statistical test.\n",
      "\n",
      "\u001b[1mInputs\u001b[0m:\n",
      "  \u001b[34m\u001b[4m--i-distance-matrix\u001b[0m ARTIFACT\n",
      "    \u001b[32mDistanceMatrix\u001b[0m     Matrix of distances between pairs of samples.\n",
      "                                                                    \u001b[35m[required]\u001b[0m\n",
      "\u001b[1mParameters\u001b[0m:\n",
      "  \u001b[34m\u001b[4m--m-metadata-file\u001b[0m METADATA\n",
      "  \u001b[34m\u001b[4m--m-metadata-column\u001b[0m COLUMN  \u001b[32mMetadataColumn[Categorical]\u001b[0m\n",
      "                       Categorical sample metadata column.          \u001b[35m[required]\u001b[0m\n",
      "  \u001b[34m--p-method\u001b[0m TEXT \u001b[32mChoices('permanova', 'anosim', 'permdisp')\u001b[0m\n",
      "                       The group significance test to be applied.\n",
      "                                                        \u001b[35m[default: 'permanova']\u001b[0m\n",
      "  \u001b[34m--p-pairwise\u001b[0m / \u001b[34m--p-no-pairwise\u001b[0m\n",
      "                       Perform pairwise tests between all pairs of groups in\n",
      "                       addition to the test across all groups. This can be\n",
      "                       very slow if there are a lot of groups in the metadata\n",
      "                       column.                                \u001b[35m[default: False]\u001b[0m\n",
      "  \u001b[34m--p-permutations\u001b[0m INTEGER\n",
      "                       The number of permutations to be run when computing\n",
      "                       p-values.                                \u001b[35m[default: 999]\u001b[0m\n",
      "\u001b[1mOutputs\u001b[0m:\n",
      "  \u001b[34m\u001b[4m--o-visualization\u001b[0m VISUALIZATION\n",
      "                                                                    \u001b[35m[required]\u001b[0m\n",
      "\u001b[1mMiscellaneous\u001b[0m:\n",
      "  \u001b[34m--output-dir\u001b[0m PATH    Output unspecified results to a directory\n",
      "  \u001b[34m--verbose\u001b[0m / \u001b[34m--quiet\u001b[0m  Display verbose output to stdout and/or stderr during\n",
      "                       execution of this action. Or silence output if\n",
      "                       execution is successful (silence is golden).\n",
      "  \u001b[34m--citations\u001b[0m          Show citations and exit.\n",
      "  \u001b[34m--help\u001b[0m               Show this message and exit.\n",
      "\n",
      "\u001b[33m                    There was a problem with the command:                     \u001b[0m\n",
      "\u001b[31m\u001b[1m (1/1) Invalid value for \"--m-metadata-file\": There was an issue with\n",
      "  retrieving column 'Donor' from the metadata:\u001b[0m\u001b[0m\n"
     ]
    }
   ],
   "source": [
    "#Rarefied to 4K\n",
    "!qiime diversity core-metrics-phylogenetic \\\n",
    "  --i-phylogeny rooted-tree.qza \\\n",
    "  --i-table Filteredtable.qza \\\n",
    "  --p-sampling-depth 4000 \\\n",
    "  --m-metadata-file MaggotExpMetadata.txt \\\n",
    "  --output-dir core-metrics-results\n",
    "    \n",
    "!qiime diversity alpha-group-significance \\\n",
    "  --i-alpha-diversity core-metrics-results/shannon_vector.qza \\\n",
    "  --m-metadata-file MaggotExpMetadata.txt \\\n",
    "  --o-visualization core-metrics-results/shannon-group-significance.qzv\n",
    "!qiime diversity alpha-group-significance \\\n",
    "  --i-alpha-diversity core-metrics-results/evenness_vector.qza \\\n",
    "  --m-metadata-file MaggotExpMetadata.txt\\\n",
    "  --o-visualization core-metrics-results/evenness-group-significance.qzv\n",
    "!qiime diversity alpha-group-significance \\\n",
    "  --i-alpha-diversity core-metrics-results/faith_pd_vector.qza \\\n",
    "  --m-metadata-file MaggotExpMetadata.txt \\\n",
    "  --o-visualization core-metrics-results/faith-pd-group-significance.qzv\n"
   ]
  },
  {
   "cell_type": "code",
   "execution_count": 19,
   "metadata": {},
   "outputs": [
    {
     "name": "stdout",
     "output_type": "stream",
     "text": [
      "\u001b[32mSaved Visualization to: core-metrics-results/weighted-unifrac-Treatment-significance.qzv\u001b[0m\r\n"
     ]
    }
   ],
   "source": [
    "!qiime diversity beta-group-significance \\\n",
    "  --i-distance-matrix core-metrics-results/weighted_unifrac_distance_matrix.qza \\\n",
    "  --m-metadata-file MaggotExpMetadata.txt \\\n",
    "  --m-metadata-column Treatment \\\n",
    "  --o-visualization core-metrics-results/weighted-unifrac-Treatment-significance.qzv \\\n",
    "  --p-pairwise"
   ]
  },
  {
   "cell_type": "code",
   "execution_count": 24,
   "metadata": {},
   "outputs": [
    {
     "name": "stdout",
     "output_type": "stream",
     "text": [
      "Press the 'q' key, Control-C, or Control-D to quit. This view may no longer be accessible or work correctly after quitting.\n",
      "Press the 'q' key, Control-C, or Control-D to quit. This view may no longer be accessible or work correctly after quitting."
     ]
    }
   ],
   "source": [
    "!qiime tools view core-metrics-results/weighted-unifrac-Treatment-significance.qzv"
   ]
  },
  {
   "cell_type": "code",
   "execution_count": 20,
   "metadata": {},
   "outputs": [
    {
     "name": "stdout",
     "output_type": "stream",
     "text": [
      "\u001b[32mExported unrooted-tree.qza as NewickDirectoryFormat to directory exported/\u001b[0m\r\n"
     ]
    }
   ],
   "source": [
    "!qiime tools export \\\n",
    "  --input-path unrooted-tree.qza \\\n",
    "  --output-path exported/"
   ]
  },
  {
   "cell_type": "code",
   "execution_count": 21,
   "metadata": {},
   "outputs": [
    {
     "name": "stdout",
     "output_type": "stream",
     "text": [
      "\u001b[32mExported core-metrics-results/rarefied_table.qza as BIOMV210DirFmt to directory exported\u001b[0m\n",
      "\u001b[32mExported taxonomy.qza as TSVTaxonomyDirectoryFormat to directory exported\u001b[0m\n"
     ]
    }
   ],
   "source": [
    "!qiime tools export \\\n",
    "  --input-path core-metrics-results/rarefied_table.qza \\\n",
    "  --output-path exported\n",
    "!qiime tools export \\\n",
    "  --input-path taxonomy.qza \\\n",
    "  --output-path exported"
   ]
  },
  {
   "cell_type": "markdown",
   "metadata": {},
   "source": [
    "Change first line of taxonomy.tsv file to #OTUID taxonomy confidence"
   ]
  },
  {
   "cell_type": "code",
   "execution_count": 22,
   "metadata": {},
   "outputs": [],
   "source": [
    "!biom add-metadata -i exported/feature-table.biom -o LabMaggotMar2020.biom --observation-metadata-fp exported/taxonomy.tsv --sc-separated taxonomy"
   ]
  },
  {
   "cell_type": "code",
   "execution_count": 33,
   "metadata": {},
   "outputs": [],
   "source": [
    "!biom convert -i LabMaggotMar2020.biom -o LabMaggotOTUTable.txt --to-tsv --header-key taxonomy"
   ]
  },
  {
   "cell_type": "code",
   "execution_count": null,
   "metadata": {},
   "outputs": [],
   "source": []
  }
 ],
 "metadata": {
  "kernelspec": {
   "display_name": "Python 3",
   "language": "python",
   "name": "python3"
  },
  "language_info": {
   "codemirror_mode": {
    "name": "ipython",
    "version": 3
   },
   "file_extension": ".py",
   "mimetype": "text/x-python",
   "name": "python",
   "nbconvert_exporter": "python",
   "pygments_lexer": "ipython3",
   "version": "3.6.7"
  }
 },
 "nbformat": 4,
 "nbformat_minor": 2
}
